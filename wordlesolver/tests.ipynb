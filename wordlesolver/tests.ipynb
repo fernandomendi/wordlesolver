{
 "cells": [
  {
   "cell_type": "code",
   "execution_count": 1,
   "metadata": {},
   "outputs": [],
   "source": [
    "from wordlesolver.common.variables import Language\n",
    "from wordlesolver.common import theory\n",
    "from wordlesolver.solver import wordle\n",
    "import pandas as pd"
   ]
  },
  {
   "cell_type": "code",
   "execution_count": 2,
   "metadata": {},
   "outputs": [],
   "source": [
    "language = Language.EN"
   ]
  },
  {
   "cell_type": "code",
   "execution_count": null,
   "metadata": {},
   "outputs": [],
   "source": [
    "words = pd.read_csv(f\"data/{language}/words.csv\")\n",
    "stats_words = theory.calculate_entropies(words, language)"
   ]
  },
  {
   "cell_type": "code",
   "execution_count": null,
   "metadata": {},
   "outputs": [],
   "source": [
    "weight = 1\n",
    "stats_words[\"guessability\"] = weight * stats_words.entropy + (1 - weight) * stats_words.probability\n",
    "\n",
    "stats_words.sort_values(\"guessability\", ascending=False)"
   ]
  },
  {
   "cell_type": "code",
   "execution_count": 5,
   "metadata": {},
   "outputs": [
    {
     "name": "stdout",
     "output_type": "stream",
     "text": [
      "Best guess: tares\n",
      "There are 41 possible words\n",
      "    word  probability\n",
      "0  towel     0.999798\n",
      "1  thief     0.999742\n",
      "2  token     0.999724\n",
      "3  tuned     0.999542\n",
      "4  typed     0.999497\n"
     ]
    },
    {
     "name": "stderr",
     "output_type": "stream",
     "text": [
      "100%|██████████| 12971/12971 [00:10<00:00, 1184.46it/s]\n"
     ]
    },
    {
     "name": "stdout",
     "output_type": "stream",
     "text": [
      "Best guess: dowie\n",
      "There are 1 possible words\n",
      "    word  probability\n",
      "0  towel     0.999798\n",
      "The only word left is: towel\n"
     ]
    }
   ],
   "source": [
    "wordle(Language.EN)"
   ]
  }
 ],
 "metadata": {
  "kernelspec": {
   "display_name": ".venv",
   "language": "python",
   "name": "python3"
  },
  "language_info": {
   "codemirror_mode": {
    "name": "ipython",
    "version": 3
   },
   "file_extension": ".py",
   "mimetype": "text/x-python",
   "name": "python",
   "nbconvert_exporter": "python",
   "pygments_lexer": "ipython3",
   "version": "3.12.3"
  }
 },
 "nbformat": 4,
 "nbformat_minor": 2
}
